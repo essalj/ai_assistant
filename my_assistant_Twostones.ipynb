{
 "metadata": {
  "language_info": {
   "codemirror_mode": {
    "name": "ipython",
    "version": 3
   },
   "file_extension": ".py",
   "mimetype": "text/x-python",
   "name": "python",
   "nbconvert_exporter": "python",
   "pygments_lexer": "ipython3",
   "version": "3.8.5-final"
  },
  "orig_nbformat": 2,
  "kernelspec": {
   "name": "python3",
   "display_name": "Python 3",
   "language": "python"
  }
 },
 "nbformat": 4,
 "nbformat_minor": 2,
 "cells": [
  {
   "cell_type": "code",
   "execution_count": 80,
   "metadata": {},
   "outputs": [
    {
     "output_type": "stream",
     "name": "stdout",
     "text": [
      "Collecting wikipedia\n  Downloading wikipedia-1.4.0.tar.gz (27 kB)\nRequirement already satisfied: beautifulsoup4 in c:\\users\\essal\\anaconda3\\lib\\site-packages (from wikipedia) (4.9.1)\nRequirement already satisfied: requests<3.0.0,>=2.0.0 in c:\\users\\essal\\anaconda3\\lib\\site-packages (from wikipedia) (2.24.0)\nRequirement already satisfied: soupsieve>1.2 in c:\\users\\essal\\anaconda3\\lib\\site-packages (from beautifulsoup4->wikipedia) (2.0.1)\nRequirement already satisfied: chardet<4,>=3.0.2 in c:\\users\\essal\\anaconda3\\lib\\site-packages (from requests<3.0.0,>=2.0.0->wikipedia) (3.0.4)\nRequirement already satisfied: certifi>=2017.4.17 in c:\\users\\essal\\anaconda3\\lib\\site-packages (from requests<3.0.0,>=2.0.0->wikipedia) (2020.12.5)\nRequirement already satisfied: idna<3,>=2.5 in c:\\users\\essal\\anaconda3\\lib\\site-packages (from requests<3.0.0,>=2.0.0->wikipedia) (2.10)\nRequirement already satisfied: urllib3!=1.25.0,!=1.25.1,<1.26,>=1.21.1 in c:\\users\\essal\\anaconda3\\lib\\site-packages (from requests<3.0.0,>=2.0.0->wikipedia) (1.25.10)\nBuilding wheels for collected packages: wikipedia\n  Building wheel for wikipedia (setup.py): started\n  Building wheel for wikipedia (setup.py): finished with status 'done'\n  Created wheel for wikipedia: filename=wikipedia-1.4.0-py3-none-any.whl size=11689 sha256=e969d7d4cd8a0b3230f8f140f9a9e3d6e5ca652cb4d71657e43606f33863f1a2\n  Stored in directory: c:\\users\\essal\\appdata\\local\\pip\\cache\\wheels\\07\\93\\05\\72c05349177dca2e0ba31a33ba4f7907606f7ddef303517c6a\nSuccessfully built wikipedia\nInstalling collected packages: wikipedia\nSuccessfully installed wikipedia-1.4.0\n"
     ]
    }
   ],
   "source": [
    "#inspiration https://medium.com/lets-talk-ml/guide-to-your-very-own-a-i-virtual-assistant-in-python-d8120ff228a8\n",
    "\n",
    "#!pip install pyttsx3\n",
    "#!pip install speechRecognition\n",
    "#!pip install pyaudio\n",
    "#!pip install wikipedia\n"
   ]
  },
  {
   "cell_type": "code",
   "execution_count": 53,
   "metadata": {},
   "outputs": [],
   "source": [
    "#VOICE \n",
    "\n",
    "import pyttsx3\n",
    "\n",
    "def set_voice(gender=0, rate=125,volume=.5):\n",
    "    engine = pyttsx3.init('sapi5')\n",
    "\n",
    "    #voice setttings\n",
    "    engine.setProperty('voice', voices[gender].id) #male = 0, female = 1\n",
    "    engine.setProperty('volume',volume)    # setting up volume level  between 0 and 1\n",
    "    engine.setProperty('rate', rate)     # setting up new voice rate\n",
    "    return engine\n",
    "#engine = set_voice(gender=0, rate=250, volume=.3)\n",
    "\n",
    "\n",
    "def get_voice_settings(engine):\n",
    "    volume = engine.getProperty('volume')   #getting to know current volume level (min=0 and max=1)\n",
    "    rate = engine.getProperty('rate')   # getting details of current speaking rate\n",
    "    voices = engine.getProperty('voices') #getting details of the current voice\n",
    "    print (volume, rate, voices)  \n",
    "#get_voice_settings(engine)\n",
    "    \n",
    "\n",
    "def speak(audio):\n",
    "   engine.say(audio) \n",
    "   engine.runAndWait() #Without this command, speech will not be audible to us.\n",
    "#speak(\"Hello World! Hope you all are doing well.\")    \n",
    "\n",
    "\n",
    "\n",
    "engine = set_voice(gender=0, rate=185, volume=.4)\n",
    "#speak(\"How y'all doing these days.\")\n"
   ]
  },
  {
   "cell_type": "code",
   "execution_count": 54,
   "metadata": {},
   "outputs": [],
   "source": [
    "import datetime\n",
    "\n",
    "def greetMe():\n",
    "    hour = int(datetime.datetime.now().hour)\n",
    "    if hour>=0 and hour<12:\n",
    "        speak(\"Good Morning!\")\n",
    "    elif hour>=12 and hour<18:\n",
    "        speak(\"Good Afternoon!\")   \n",
    "    else:\n",
    "        speak(\"Good Evening!\")  \n",
    "    speak(\"How may I help you?\")\n",
    "#greetMe()"
   ]
  },
  {
   "cell_type": "code",
   "execution_count": 79,
   "metadata": {},
   "outputs": [
    {
     "output_type": "stream",
     "name": "stdout",
     "text": [
      "Listening...\n",
      "Recognizing...\n",
      "User said: please take my command\n",
      "\n"
     ]
    }
   ],
   "source": [
    "#Speech Recognition\n",
    "import speech_recognition as sr\n",
    "\n",
    "def takeCommand(lang='en-GB'):\n",
    "    #It takes microphone input from the user and returns string output\n",
    "    r = sr.Recognizer()\n",
    "    with sr.Microphone() as source:\n",
    "        print(\"Listening...\")\n",
    "        r.pause_threshold = 1\n",
    "        audio = r.listen(source)\n",
    "\n",
    "    try:\n",
    "        print(\"Recognizing...\")    \n",
    "        query = r.recognize_google(audio, language=lang) #Using google for voice recognition.\n",
    "        print(f\"User said: {query}\\n\")  #User query will be printed.\n",
    "    \n",
    "    except Exception as e:\n",
    "        # print(e)  use only if you want to print the error!\n",
    "        print(\"Say that again please...\")   #Say that again will be printed in case of improper voice \n",
    "        return \"None\" #None string will be returned\n",
    "    return query\n",
    "    #query=takeCommand()\n",
    "    #query=takeCommand(lang=lang_dk)\n",
    "    #query=takeCommand(lang=lang_no)\n",
    "    #query=takeCommand(lang=lang_eng_US)\n",
    "\n",
    "    '''\n",
    "    https://cloud.google.com/speech-to-text/docs/languages\n",
    "    lang_dk = 'da-DK'\n",
    "    lang_no = 'no-NO'\n",
    "    lang_eng_GB = 'en-US'\n",
    "    lang_eng_US = 'en-GB'\n",
    "    '''\n",
    "\n",
    "#query=takeCommand()\n"
   ]
  },
  {
   "source": [
    "# Logic for executing tasks based on query\n"
   ],
   "cell_type": "markdown",
   "metadata": {}
  },
  {
   "cell_type": "code",
   "execution_count": 104,
   "metadata": {},
   "outputs": [
    {
     "output_type": "stream",
     "name": "stdout",
     "text": [
      "Listening...\n",
      "Recognizing...\n",
      "User said: the time\n",
      "\n"
     ]
    }
   ],
   "source": [
    "\n",
    "import wikipedia\n",
    "\n",
    "import webbrowser\n",
    "webbrowser.register('chrome',\n",
    "\tNone,\n",
    "\twebbrowser.BackgroundBrowser(\"C://Program Files (x86)//Google//Chrome//Application//chrome.exe\"))\n",
    "#webbrowser.get('chrome').open(url)\n",
    "\n",
    "\n",
    "\n",
    "query = takeCommand().lower() #Converting user query into lower case\n",
    "\n",
    "if 'wikipedia' in query:  #if wikipedia found in the query then this block will be executed\n",
    "    speak('Searching Wikipedia...')\n",
    "    query = query.replace(\"wikipedia\", \"\")\n",
    "    results = wikipedia.summary(query, sentences=2) \n",
    "    speak(\"According to Wikipedia\")\n",
    "    print(results)\n",
    "    speak(results)\n",
    "\n",
    "elif 'open youtube' in query:\n",
    "            webbrowser.get('chrome').open(\"youtube.com\")\n",
    "\n",
    "elif 'open google' in query:\n",
    "            webbrowser.get('chrome').open(\"google.com\")\n",
    "\n",
    "elif 'the time' in query:\n",
    "            strTime = datetime.datetime.now().strftime(\"%H:%M:%S\")    \n",
    "            speak(f\"The time is {strTime}\")"
   ]
  },
  {
   "cell_type": "code",
   "execution_count": 94,
   "metadata": {},
   "outputs": [
    {
     "output_type": "execute_result",
     "data": {
      "text/plain": [
       "True"
      ]
     },
     "metadata": {},
     "execution_count": 94
    }
   ],
   "source": []
  },
  {
   "cell_type": "code",
   "execution_count": null,
   "metadata": {},
   "outputs": [],
   "source": []
  }
 ]
}