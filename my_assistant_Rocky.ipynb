{
 "metadata": {
  "language_info": {
   "codemirror_mode": {
    "name": "ipython",
    "version": 3
   },
   "file_extension": ".py",
   "mimetype": "text/x-python",
   "name": "python",
   "nbconvert_exporter": "python",
   "pygments_lexer": "ipython3",
   "version": "3.8.5-final"
  },
  "orig_nbformat": 2,
  "kernelspec": {
   "name": "python3",
   "display_name": "Python 3",
   "language": "python"
  }
 },
 "nbformat": 4,
 "nbformat_minor": 2,
 "cells": [
  {
   "cell_type": "code",
   "execution_count": 1,
   "metadata": {},
   "outputs": [],
   "source": [
    "#inspiration https://medium.com/lets-talk-ml/guide-to-your-very-own-a-i-virtual-assistant-in-python-d8120ff228a8\n",
    "\n",
    "#!pip install pyttsx3\n",
    "#!pip install speechRecognition\n",
    "#!pip install pyaudio\n",
    "#!pip install wikipedia\n",
    "#pip install googletrans  virkede ikke\n",
    "#pip install googletrans==4.0.0-rc1  # new update der virker\n",
    "# #not working !pip install ecapture\n",
    "\n"
   ]
  },
  {
   "cell_type": "code",
   "execution_count": 1,
   "metadata": {},
   "outputs": [],
   "source": [
    "\n",
    "import speech_recognition as sr\n",
    "import pyttsx3\n",
    "from gtts import gTTS\n",
    "import playsound\n",
    "\n",
    "import datetime\n",
    "import wikipedia\n",
    "import webbrowser\n",
    "import os\n",
    "import time\n",
    "import subprocess\n",
    "#from ecapture import ecapture as ec\n",
    "import wolframalpha\n",
    "import json\n",
    "import requests\n",
    "import googletrans\n"
   ]
  },
  {
   "cell_type": "code",
   "execution_count": 2,
   "metadata": {},
   "outputs": [],
   "source": [
    "#init webbrowser\n",
    "webbrowser.register('chrome',\n",
    "\tNone,\n",
    "\twebbrowser.BackgroundBrowser(\"C://Program Files (x86)//Google//Chrome//Application//chrome.exe\"))\n",
    "#webbrowser.get('chrome').open(url)\n",
    "\n",
    "\n",
    "#init takeCommand\n",
    "#https://cloud.google.com/speech-to-text/docs/languages\n",
    "lang_dk = 'da-DK'\n",
    "lang_no = 'no-NO'\n",
    "lang_eng_GB = 'en-GB'\n",
    "lang_eng_US = 'en-US'\n",
    "lang_viet = 'vn-VN'\n",
    "\n"
   ]
  },
  {
   "cell_type": "code",
   "execution_count": 3,
   "metadata": {},
   "outputs": [],
   "source": [
    "#VOICE \n",
    "#import pyttsx3\n",
    "\n",
    "def set_voice(gender=0, rate=125,volume=.7):\n",
    "    engine = pyttsx3.init('sapi5')\n",
    "\n",
    "    #voice setttings\n",
    "    #engine.setProperty('voice', voices[gender].id) #male = 0, female = 1\n",
    "    engine.setProperty('volume',volume)    # setting up volume level  between 0 and 1\n",
    "    engine.setProperty('rate', rate)     # setting up new voice rate\n",
    "    return engine\n",
    "    #engine = set_voice(gender=0, rate=250, volume=.3)\n",
    "\n",
    "\n",
    "def get_voice_settings(engine):\n",
    "    volume = engine.getProperty('volume')   #getting to know current volume level (min=0 and max=1)\n",
    "    rate = engine.getProperty('rate')   # getting details of current speaking rate\n",
    "    voices = engine.getProperty('voice') #getting details of the current voice\n",
    "    print (volume, rate, voices)  \n",
    "    #get_voice_settings(engine)\n",
    "    \n",
    "\n",
    "def speak(text):\n",
    "    engine.say(text) \n",
    "    engine.runAndWait() #Without this command, speech will not be audible to us.\n",
    "    #speak(\"Hello World! Hope you all are doing well.\")    \n",
    "\n",
    "\n",
    "#init voice\n",
    "engine = set_voice(gender=0, rate=185, volume=.4)\n"
   ]
  },
  {
   "cell_type": "code",
   "execution_count": 4,
   "metadata": {},
   "outputs": [],
   "source": [
    "#VOICE GTTS\n",
    "\n",
    "def speak_gtts(text):\n",
    "    tts = gTTS(text=text, lang='en',slow=False)\n",
    "    filename ='sphrase_tmp.mp3'\n",
    "    tts.save(filename)\n",
    "    playsound.playsound(filename)\n",
    "    os.remove(filename)\n",
    "    #speak_gtts(\"hello \")\n",
    "\n",
    "\n",
    "def speak_gtts_language(text=\"hello\", lang=\"en\"):\n",
    "    tts = gTTS(text=text, lang=lang,slow=False)\n",
    "    filename ='phrase_tmp.mp3'\n",
    "    tts.save(filename)\n",
    "    playsound.playsound(filename)\n",
    "    os.remove(filename)\n",
    "    #speak_gtts_language(text=\"Good day I am Rocky\", lang='it')"
   ]
  },
  {
   "cell_type": "code",
   "execution_count": 9,
   "metadata": {},
   "outputs": [],
   "source": [
    "#Speech Recognition\n",
    "#import speech_recognition as sr\n",
    "\n",
    "#https://cloud.google.com/speech-to-text/docs/languages\n",
    "#lang_dk = 'da-DK'\n",
    "#lang_no = 'no-NO'\n",
    "#lang_eng_GB = 'en-GB'\n",
    "#lang_eng_US = 'en-US'\n",
    "#lang_viet = 'vn-VN'\n",
    "\n",
    "\n",
    "def takeCommand(lang='en-GB'):\n",
    "    #It takes microphone input from the user and returns string output\n",
    "    r = sr.Recognizer()\n",
    " \n",
    "    with sr.Microphone() as source:\n",
    "        r.adjust_for_ambient_noise(source, duration=0.2) #testing.....can be deleted\n",
    "        print(\"Listening...\")\n",
    "        r.pause_threshold = 1\n",
    "        audio = r.listen(source)\n",
    " \n",
    "    \n",
    "    try:\n",
    "        print(\"Recognizing...\")    \n",
    "        query = r.recognize_google(audio, language=lang) #Using google for voice recognition.\n",
    "        print(f\"User said: {query}\\n\")  #User query will be printed.\n",
    "    \n",
    "    except Exception as e:\n",
    "        print(e) # use only if you want to print the error!\n",
    "        print(\"Say that again please...\")   #Say that again will be printed in case of improper voice \n",
    "        return \"None\" #None string will be returned\n",
    "    return query.lower()\n",
    "    #query=takeCommand()\n",
    "    #query=takeCommand(lang=lang_dk)\n",
    "  \n",
    "\n",
    "def dictateLanguage(query):  #dictation possible in other language\n",
    "    if \"danish language\" in query:\n",
    "        speak(\"Danish it is. You can dictate in danish now.\")\n",
    "        query_lang=takeCommand(lang=lang_dk)\n",
    "    elif \"norwegian language\" in query:\n",
    "        query_lang=takeCommand(lang=lang_no)\n",
    "        speak(\"Norwegian it is. You can dictate in norwegian now.\")\n",
    "    elif \"vietnamese language\" in query:\n",
    "        query_lang=takeCommand(lang=lang_viet)\n",
    "        speak(\"Vietnamese it is. You can dictate in vietnamese now.\")\n",
    "    else:\n",
    "        query_lang=query\n",
    "    return query_lang\n",
    "    #query = queryLanguage(query)\n"
   ]
  },
  {
   "cell_type": "code",
   "execution_count": 10,
   "metadata": {},
   "outputs": [
    {
     "output_type": "stream",
     "name": "stdout",
     "text": [
      "Listening...\n",
      "Recognizing...\n",
      "User said: housing for Stornoway SIA\n",
      "\n"
     ]
    },
    {
     "output_type": "execute_result",
     "data": {
      "text/plain": [
       "'housing for stornoway sia'"
      ]
     },
     "metadata": {},
     "execution_count": 10
    }
   ],
   "source": [
    "takeCommand()"
   ]
  },
  {
   "cell_type": "markdown",
   "metadata": {},
   "source": [
    "# functions related to assistant tasks\n"
   ]
  },
  {
   "cell_type": "code",
   "execution_count": 6,
   "metadata": {},
   "outputs": [],
   "source": [
    "#text translation\n",
    "from googletrans import Translator \n",
    "import pandas as pd\n",
    "\n",
    "translator = Translator()\n",
    "languages = googletrans.LANGUAGES\n",
    "df_lang = pd.DataFrame(list(languages.items()),columns = ['lang','language']) #dict to df\n",
    "\n",
    "def lang_abb(lang):\n",
    "    lang_abb=df_lang['lang'].loc[df_lang.language==lang].values\n",
    "    #print(lang_abb)\n",
    "    return lang_abb\n",
    "\n",
    "\n",
    "def translate_text(phrase=\"Hello\", src=\"\", dest=\"en\"): \n",
    "    if len(src)<2:\n",
    "        detected = translator.detect(phrase)\n",
    "        src = detected.lang\n",
    "    translated = translator.translate(phrase,src=src,dest=dest)     \n",
    "    print(translated.text)\n",
    "    print(src, dest)\n",
    "    trans_text = translated.text\n",
    "    return trans_text\n",
    "\n",
    "\n",
    "def translate_spoken():\n",
    "    speak(\"what do you want me to translate?\")\n",
    "    phrase=takeCommand()\n",
    "    \n",
    "    speak(\"To what language?\")\n",
    "    q_dest=takeCommand()\n",
    "    dest=lang_abb(q_dest)\n",
    "    \n",
    "    speak(\"what do you want me to translate?\")\n",
    "    phrase=takeCommand()\n",
    "\n",
    "    try:\n",
    "        trans_text=translate_text(phrase, dest=dest[0])\n",
    "        speak_gtts_language(text=trans_text, lang=dest[0])\n",
    "    except:\n",
    "        speak(\"I did not get that....here it is in korean\")\n",
    "        trans_text=translate_text(phrase, dest='ko')\n",
    "        speak_gtts_language(text=trans_text, lang='ko')\n"
   ]
  },
  {
   "source": [
    "\n",
    "\n"
   ],
   "cell_type": "markdown",
   "metadata": {}
  },
  {
   "cell_type": "code",
   "execution_count": 7,
   "metadata": {},
   "outputs": [
    {
     "output_type": "stream",
     "name": "stdout",
     "text": [
      "\n",
      "Listening...\n",
      "Recognizing...\n",
      "User said: French\n",
      "\n",
      "Listening...\n",
      "Recognizing...\n",
      "User said: hello I'm lucky I'm happy today\n",
      "\n",
      "bonjour j'ai de la chance je suis heureux aujourd'hui\n",
      "en fr\n",
      "\n",
      "Listening...\n"
     ]
    },
    {
     "output_type": "error",
     "ename": "KeyboardInterrupt",
     "evalue": "",
     "traceback": [
      "\u001b[1;31m---------------------------------------------------------------------------\u001b[0m",
      "\u001b[1;31mKeyboardInterrupt\u001b[0m                         Traceback (most recent call last)",
      "\u001b[1;32m<ipython-input-7-a8cf275aadfe>\u001b[0m in \u001b[0;36m<module>\u001b[1;34m\u001b[0m\n\u001b[0;32m      2\u001b[0m \u001b[1;32mwhile\u001b[0m \u001b[1;32mTrue\u001b[0m\u001b[1;33m:\u001b[0m\u001b[1;33m\u001b[0m\u001b[1;33m\u001b[0m\u001b[0m\n\u001b[0;32m      3\u001b[0m     \u001b[0mprint\u001b[0m\u001b[1;33m(\u001b[0m\u001b[1;33m)\u001b[0m\u001b[1;33m\u001b[0m\u001b[1;33m\u001b[0m\u001b[0m\n\u001b[1;32m----> 4\u001b[1;33m     \u001b[0mtranslate_spoken\u001b[0m\u001b[1;33m(\u001b[0m\u001b[1;33m)\u001b[0m\u001b[1;33m\u001b[0m\u001b[1;33m\u001b[0m\u001b[0m\n\u001b[0m\u001b[0;32m      5\u001b[0m     \u001b[0mt\u001b[0m\u001b[1;33m=\u001b[0m\u001b[0minput\u001b[0m\u001b[1;33m(\u001b[0m\u001b[1;34m\"press return to go again\"\u001b[0m\u001b[1;33m)\u001b[0m\u001b[1;33m\u001b[0m\u001b[1;33m\u001b[0m\u001b[0m\n",
      "\u001b[1;32m<ipython-input-6-a430aaa3243e>\u001b[0m in \u001b[0;36mtranslate_spoken\u001b[1;34m()\u001b[0m\n\u001b[0;32m     26\u001b[0m \u001b[1;32mdef\u001b[0m \u001b[0mtranslate_spoken\u001b[0m\u001b[1;33m(\u001b[0m\u001b[1;33m)\u001b[0m\u001b[1;33m:\u001b[0m\u001b[1;33m\u001b[0m\u001b[1;33m\u001b[0m\u001b[0m\n\u001b[0;32m     27\u001b[0m     \u001b[0mspeak\u001b[0m\u001b[1;33m(\u001b[0m\u001b[1;34m\"To what language?\"\u001b[0m\u001b[1;33m)\u001b[0m\u001b[1;33m\u001b[0m\u001b[1;33m\u001b[0m\u001b[0m\n\u001b[1;32m---> 28\u001b[1;33m     \u001b[0mq_dest\u001b[0m\u001b[1;33m=\u001b[0m\u001b[0mtakeCommand\u001b[0m\u001b[1;33m(\u001b[0m\u001b[1;33m)\u001b[0m\u001b[1;33m\u001b[0m\u001b[1;33m\u001b[0m\u001b[0m\n\u001b[0m\u001b[0;32m     29\u001b[0m     \u001b[0mdest\u001b[0m\u001b[1;33m=\u001b[0m\u001b[0mlang_abb\u001b[0m\u001b[1;33m(\u001b[0m\u001b[0mq_dest\u001b[0m\u001b[1;33m)\u001b[0m\u001b[1;33m\u001b[0m\u001b[1;33m\u001b[0m\u001b[0m\n\u001b[0;32m     30\u001b[0m \u001b[1;33m\u001b[0m\u001b[0m\n",
      "\u001b[1;32m<ipython-input-5-c8b39fd2f6f2>\u001b[0m in \u001b[0;36mtakeCommand\u001b[1;34m(lang)\u001b[0m\n\u001b[0;32m     18\u001b[0m         \u001b[0mprint\u001b[0m\u001b[1;33m(\u001b[0m\u001b[1;34m\"Listening...\"\u001b[0m\u001b[1;33m)\u001b[0m\u001b[1;33m\u001b[0m\u001b[1;33m\u001b[0m\u001b[0m\n\u001b[0;32m     19\u001b[0m         \u001b[0mr\u001b[0m\u001b[1;33m.\u001b[0m\u001b[0mpause_threshold\u001b[0m \u001b[1;33m=\u001b[0m \u001b[1;36m1\u001b[0m\u001b[1;33m\u001b[0m\u001b[1;33m\u001b[0m\u001b[0m\n\u001b[1;32m---> 20\u001b[1;33m         \u001b[0maudio\u001b[0m \u001b[1;33m=\u001b[0m \u001b[0mr\u001b[0m\u001b[1;33m.\u001b[0m\u001b[0mlisten\u001b[0m\u001b[1;33m(\u001b[0m\u001b[0msource\u001b[0m\u001b[1;33m)\u001b[0m\u001b[1;33m\u001b[0m\u001b[1;33m\u001b[0m\u001b[0m\n\u001b[0m\u001b[0;32m     21\u001b[0m \u001b[1;33m\u001b[0m\u001b[0m\n\u001b[0;32m     22\u001b[0m \u001b[1;33m\u001b[0m\u001b[0m\n",
      "\u001b[1;32m~\\anaconda3\\lib\\site-packages\\speech_recognition\\__init__.py\u001b[0m in \u001b[0;36mlisten\u001b[1;34m(self, source, timeout, phrase_time_limit, snowboy_configuration)\u001b[0m\n\u001b[0;32m    650\u001b[0m                     \u001b[1;32mbreak\u001b[0m\u001b[1;33m\u001b[0m\u001b[1;33m\u001b[0m\u001b[0m\n\u001b[0;32m    651\u001b[0m \u001b[1;33m\u001b[0m\u001b[0m\n\u001b[1;32m--> 652\u001b[1;33m                 \u001b[0mbuffer\u001b[0m \u001b[1;33m=\u001b[0m \u001b[0msource\u001b[0m\u001b[1;33m.\u001b[0m\u001b[0mstream\u001b[0m\u001b[1;33m.\u001b[0m\u001b[0mread\u001b[0m\u001b[1;33m(\u001b[0m\u001b[0msource\u001b[0m\u001b[1;33m.\u001b[0m\u001b[0mCHUNK\u001b[0m\u001b[1;33m)\u001b[0m\u001b[1;33m\u001b[0m\u001b[1;33m\u001b[0m\u001b[0m\n\u001b[0m\u001b[0;32m    653\u001b[0m                 \u001b[1;32mif\u001b[0m \u001b[0mlen\u001b[0m\u001b[1;33m(\u001b[0m\u001b[0mbuffer\u001b[0m\u001b[1;33m)\u001b[0m \u001b[1;33m==\u001b[0m \u001b[1;36m0\u001b[0m\u001b[1;33m:\u001b[0m \u001b[1;32mbreak\u001b[0m  \u001b[1;31m# reached end of the stream\u001b[0m\u001b[1;33m\u001b[0m\u001b[1;33m\u001b[0m\u001b[0m\n\u001b[0;32m    654\u001b[0m                 \u001b[0mframes\u001b[0m\u001b[1;33m.\u001b[0m\u001b[0mappend\u001b[0m\u001b[1;33m(\u001b[0m\u001b[0mbuffer\u001b[0m\u001b[1;33m)\u001b[0m\u001b[1;33m\u001b[0m\u001b[1;33m\u001b[0m\u001b[0m\n",
      "\u001b[1;32m~\\anaconda3\\lib\\site-packages\\speech_recognition\\__init__.py\u001b[0m in \u001b[0;36mread\u001b[1;34m(self, size)\u001b[0m\n\u001b[0;32m    159\u001b[0m \u001b[1;33m\u001b[0m\u001b[0m\n\u001b[0;32m    160\u001b[0m         \u001b[1;32mdef\u001b[0m \u001b[0mread\u001b[0m\u001b[1;33m(\u001b[0m\u001b[0mself\u001b[0m\u001b[1;33m,\u001b[0m \u001b[0msize\u001b[0m\u001b[1;33m)\u001b[0m\u001b[1;33m:\u001b[0m\u001b[1;33m\u001b[0m\u001b[1;33m\u001b[0m\u001b[0m\n\u001b[1;32m--> 161\u001b[1;33m             \u001b[1;32mreturn\u001b[0m \u001b[0mself\u001b[0m\u001b[1;33m.\u001b[0m\u001b[0mpyaudio_stream\u001b[0m\u001b[1;33m.\u001b[0m\u001b[0mread\u001b[0m\u001b[1;33m(\u001b[0m\u001b[0msize\u001b[0m\u001b[1;33m,\u001b[0m \u001b[0mexception_on_overflow\u001b[0m\u001b[1;33m=\u001b[0m\u001b[1;32mFalse\u001b[0m\u001b[1;33m)\u001b[0m\u001b[1;33m\u001b[0m\u001b[1;33m\u001b[0m\u001b[0m\n\u001b[0m\u001b[0;32m    162\u001b[0m \u001b[1;33m\u001b[0m\u001b[0m\n\u001b[0;32m    163\u001b[0m         \u001b[1;32mdef\u001b[0m \u001b[0mclose\u001b[0m\u001b[1;33m(\u001b[0m\u001b[0mself\u001b[0m\u001b[1;33m)\u001b[0m\u001b[1;33m:\u001b[0m\u001b[1;33m\u001b[0m\u001b[1;33m\u001b[0m\u001b[0m\n",
      "\u001b[1;32m~\\anaconda3\\lib\\site-packages\\pyaudio.py\u001b[0m in \u001b[0;36mread\u001b[1;34m(self, num_frames, exception_on_overflow)\u001b[0m\n\u001b[0;32m    606\u001b[0m                           paCanNotReadFromAnOutputOnlyStream)\n\u001b[0;32m    607\u001b[0m \u001b[1;33m\u001b[0m\u001b[0m\n\u001b[1;32m--> 608\u001b[1;33m         \u001b[1;32mreturn\u001b[0m \u001b[0mpa\u001b[0m\u001b[1;33m.\u001b[0m\u001b[0mread_stream\u001b[0m\u001b[1;33m(\u001b[0m\u001b[0mself\u001b[0m\u001b[1;33m.\u001b[0m\u001b[0m_stream\u001b[0m\u001b[1;33m,\u001b[0m \u001b[0mnum_frames\u001b[0m\u001b[1;33m,\u001b[0m \u001b[0mexception_on_overflow\u001b[0m\u001b[1;33m)\u001b[0m\u001b[1;33m\u001b[0m\u001b[1;33m\u001b[0m\u001b[0m\n\u001b[0m\u001b[0;32m    609\u001b[0m \u001b[1;33m\u001b[0m\u001b[0m\n\u001b[0;32m    610\u001b[0m     \u001b[1;32mdef\u001b[0m \u001b[0mget_read_available\u001b[0m\u001b[1;33m(\u001b[0m\u001b[0mself\u001b[0m\u001b[1;33m)\u001b[0m\u001b[1;33m:\u001b[0m\u001b[1;33m\u001b[0m\u001b[1;33m\u001b[0m\u001b[0m\n",
      "\u001b[1;31mKeyboardInterrupt\u001b[0m: "
     ]
    }
   ],
   "source": [
    "#translate_to(\"Hej jeg hedder Rocky\")\n",
    "while True:\n",
    "    print()\n",
    "    translate_spoken()\n",
    "    t=input(\"press return to go again\")"
   ]
  },
  {
   "cell_type": "code",
   "execution_count": 21,
   "metadata": {},
   "outputs": [],
   "source": [
    "#Task send email\n",
    "import smtplib, ssl\n",
    "def serverSendEmail(to, content):\n",
    "    server = smtplib.SMTP('smtp.gmail.com', 587)\n",
    "    server.ehlo()\n",
    "    server.starttls()\n",
    "    server.login('essalj@gmail.com', 'Primus9558g')\n",
    "    server.sendmail('essalj@gmail.com', to, content)\n",
    "    server.close()\n",
    "    #sendEmail('essalj@gmail.com','Hejsa. Sikke en test.')\n",
    "\n",
    "\n",
    "def sendEmail(query):\n",
    "    #email content\n",
    "    speak(\"What should I write?\")\n",
    "    q_content = takeCommand()\n",
    "    content = dictateLanguage(q_content)\n",
    "\n",
    "    #email receiver\n",
    "    if \"celina\" in query or \"selina\" in query:\n",
    "        to = \"ccjeremiassen@gmail.com\"\n",
    "    elif \"magnus\" in query:\n",
    "        to = 'mcjeremiassen@gmail.com'\n",
    "    elif \"to self\" in query:\n",
    "        to = 'essalj@gmail.com'\n",
    "    else:\n",
    "        speak('send to who?')\n",
    "        to = takeCommand()\n",
    "\n",
    "    try:\n",
    "        serverSendEmail(to, content)\n",
    "        speak(\"Email has been sent!\")\n",
    "    except Exception as e:\n",
    "        print(e)\n",
    "        speak(\"Sorry. I am not able to send this email\")\n"
   ]
  },
  {
   "cell_type": "code",
   "execution_count": 7,
   "metadata": {},
   "outputs": [],
   "source": [
    "def askWolfram():\n",
    "    speak('What do you want to know?')\n",
    "    question=takeCommand()\n",
    "\n",
    "    #question = \"what is the population of sweden?\"\n",
    "    app_id=\"Stones\"\n",
    "    client = wolframalpha.Client('4UE782-RAV5EAWPT9')\n",
    "    res = client.query(question)\n",
    "    answer = next(res.results).text\n",
    "    speak(answer)\n",
    "    print(answer)\n",
    "    askWolfram()"
   ]
  },
  {
   "cell_type": "code",
   "execution_count": 8,
   "metadata": {},
   "outputs": [],
   "source": [
    "def greetMe():\n",
    "    hour = int(datetime.datetime.now().hour)\n",
    "    if hour>=0 and hour<12:\n",
    "        speak(\"Good Morning!\")\n",
    "    elif hour>=12 and hour<18:\n",
    "        speak(\"Good Afternoon!\")   \n",
    "    else:\n",
    "        speak(\"Good Evening!\") \n",
    "    \n",
    "#greetMe()"
   ]
  },
  {
   "cell_type": "code",
   "execution_count": 9,
   "metadata": {},
   "outputs": [],
   "source": [
    "def phrase_stats(phrase):\n",
    "    words = len(phrase.split())\n",
    "    letters = len(phrase.replace(\" \",\"\"))\n",
    "    return words, letters\n",
    "#query=\"search google for blue dogs\"\n",
    "#phrase_stats(query)"
   ]
  },
  {
   "cell_type": "markdown",
   "metadata": {},
   "source": [
    "# wake up call"
   ]
  },
  {
   "cell_type": "code",
   "execution_count": 10,
   "metadata": {},
   "outputs": [],
   "source": [
    "def listen():\n",
    "    t0 = time.time()\n",
    "\n",
    "    #speak(\"How can I help you?\")\n",
    "\n",
    "    query = takeCommand() #Converting user query into lower case\n",
    "    #query = \"send email to lasse\" #Converting user query into lower case\n",
    "\n",
    "    #0    \n",
    "    note_strs = ['note to self', 'remember this']\n",
    "    for phrase in note_strs:\n",
    "        if phrase in query:\n",
    "            create_note(query)\n",
    "\n",
    "    #1\n",
    "    if 'wikipedia' in query:  #if wikipedia found in the query\n",
    "        speak('Searching Wikipedia...')\n",
    "        query = query.replace(\"wikipedia\", \"\")\n",
    "        results = wikipedia.summary(query, sentences=2) \n",
    "        speak(\"According to Wikipedia\")\n",
    "        print(results)\n",
    "        speak(results)\n",
    "        time.sleep(3)\n",
    "\n",
    "    #2\n",
    "    elif 'open youtube' in query:\n",
    "        webbrowser.get('chrome').open(\"youtube.com\")\n",
    "        speak(\"Youtube is ready for you now\")\n",
    "        time.sleep(3)\n",
    "\n",
    "    #3\n",
    "    elif 'search google' in query:\n",
    "        speak(\"what do I look for?\")\n",
    "        phrase = query.replace('search google',\"\")\n",
    "        words, letters = phrase_stats(phrase)\n",
    "        speak(\"searching google for \" + phrase)\n",
    "\n",
    "        \n",
    "        #\"stakeCommand()\n",
    "        url = \"https://www.google.com/search?query=\" + phrase\n",
    "        webbrowser.get('chrome').open(url)\n",
    "        speak(\"Google is ready for you now\")\n",
    "        time.sleep(3)\n",
    "\n",
    "    #4\n",
    "    elif 'the time' in query:\n",
    "            strTime = datetime.datetime.now().strftime(\"%H:%M:%S\")    \n",
    "            speak(f\"The time is {strTime}\")\n",
    "            time.sleep(3)\n",
    "\n",
    "    #5\n",
    "    elif 'send email to' in query:\n",
    "        sendEmail(query)\n",
    "        time.sleep(3)\n",
    "\n",
    "    #6\n",
    "    elif 'the news' in query:\n",
    "        url_news = \"https://www.dr.dk/drtv/se/tv-avisen-morgen_229629\" #dr tv-avisen play direct\n",
    "        webbrowser.get('chrome').open(url_news)\n",
    "        speak(\"The news is playing now\")\n",
    "\n",
    "\n",
    "    #8\n",
    "    elif 'ask' in query:\n",
    "        askWolfram()\n",
    "\n",
    "   #9\n",
    "    elif 'you listening' in query:\n",
    "        speak(\"Discretely..... but yes\")\n",
    "        \n",
    "    \n",
    "     \n",
    "\n",
    "     \n"
   ]
  },
  {
   "cell_type": "code",
   "execution_count": null,
   "metadata": {},
   "outputs": [],
   "source": []
  },
  {
   "cell_type": "code",
   "execution_count": 11,
   "metadata": {},
   "outputs": [
    {
     "output_type": "stream",
     "name": "stdout",
     "text": [
      "\n"
     ]
    },
    {
     "output_type": "error",
     "ename": "UnboundLocalError",
     "evalue": "local variable 'source' referenced before assignment",
     "traceback": [
      "\u001b[1;31m---------------------------------------------------------------------------\u001b[0m",
      "\u001b[1;31mUnboundLocalError\u001b[0m                         Traceback (most recent call last)",
      "\u001b[1;32m<ipython-input-11-15594212b4d6>\u001b[0m in \u001b[0;36m<module>\u001b[1;34m\u001b[0m\n\u001b[0;32m      5\u001b[0m     \u001b[0mt0\u001b[0m \u001b[1;33m=\u001b[0m \u001b[0mtime\u001b[0m\u001b[1;33m.\u001b[0m\u001b[0mtime\u001b[0m\u001b[1;33m(\u001b[0m\u001b[1;33m)\u001b[0m\u001b[1;33m\u001b[0m\u001b[1;33m\u001b[0m\u001b[0m\n\u001b[0;32m      6\u001b[0m \u001b[1;33m\u001b[0m\u001b[0m\n\u001b[1;32m----> 7\u001b[1;33m     \u001b[0mquery\u001b[0m \u001b[1;33m=\u001b[0m \u001b[0mtakeCommand\u001b[0m\u001b[1;33m(\u001b[0m\u001b[1;33m)\u001b[0m\u001b[1;33m\u001b[0m\u001b[1;33m\u001b[0m\u001b[0m\n\u001b[0m\u001b[0;32m      8\u001b[0m     \u001b[1;32mif\u001b[0m \u001b[0mquery\u001b[0m\u001b[1;33m.\u001b[0m\u001b[0mcount\u001b[0m\u001b[1;33m(\u001b[0m\u001b[0mcmd_wake_up_call\u001b[0m\u001b[1;33m)\u001b[0m\u001b[1;33m>\u001b[0m\u001b[1;36m0\u001b[0m\u001b[1;33m:\u001b[0m\u001b[1;33m\u001b[0m\u001b[1;33m\u001b[0m\u001b[0m\n\u001b[0;32m      9\u001b[0m         \u001b[0mspeak\u001b[0m\u001b[1;33m(\u001b[0m\u001b[1;34m\"Rolling and ready.\"\u001b[0m\u001b[1;33m)\u001b[0m\u001b[1;33m\u001b[0m\u001b[1;33m\u001b[0m\u001b[0m\n",
      "\u001b[1;32m<ipython-input-5-cfbf4ac2ac4e>\u001b[0m in \u001b[0;36mtakeCommand\u001b[1;34m(lang)\u001b[0m\n\u001b[0;32m     20\u001b[0m     \u001b[1;31m#It takes microphone input from the user and returns string output\u001b[0m\u001b[1;33m\u001b[0m\u001b[1;33m\u001b[0m\u001b[1;33m\u001b[0m\u001b[0m\n\u001b[0;32m     21\u001b[0m     \u001b[0mr\u001b[0m \u001b[1;33m=\u001b[0m \u001b[0msr\u001b[0m\u001b[1;33m.\u001b[0m\u001b[0mRecognizer\u001b[0m\u001b[1;33m(\u001b[0m\u001b[1;33m)\u001b[0m\u001b[1;33m\u001b[0m\u001b[1;33m\u001b[0m\u001b[0m\n\u001b[1;32m---> 22\u001b[1;33m     \u001b[0mr\u001b[0m\u001b[1;33m.\u001b[0m\u001b[0madjust_for_ambient_noise\u001b[0m\u001b[1;33m(\u001b[0m\u001b[0msource\u001b[0m\u001b[1;33m,\u001b[0m \u001b[0mduration\u001b[0m\u001b[1;33m=\u001b[0m\u001b[1;36m0.2\u001b[0m\u001b[1;33m)\u001b[0m \u001b[1;31m#testing.....can be deleted\u001b[0m\u001b[1;33m\u001b[0m\u001b[1;33m\u001b[0m\u001b[0m\n\u001b[0m\u001b[0;32m     23\u001b[0m \u001b[1;33m\u001b[0m\u001b[0m\n\u001b[0;32m     24\u001b[0m     \u001b[1;32mwith\u001b[0m \u001b[0msr\u001b[0m\u001b[1;33m.\u001b[0m\u001b[0mMicrophone\u001b[0m\u001b[1;33m(\u001b[0m\u001b[1;33m)\u001b[0m \u001b[1;32mas\u001b[0m \u001b[0msource\u001b[0m\u001b[1;33m:\u001b[0m\u001b[1;33m\u001b[0m\u001b[1;33m\u001b[0m\u001b[0m\n",
      "\u001b[1;31mUnboundLocalError\u001b[0m: local variable 'source' referenced before assignment"
     ]
    }
   ],
   "source": [
    "cmd_wake_up_call = 'hello rocky'\n",
    "\n",
    "print(\"\")\n",
    "while True:\n",
    "    t0 = time.time()\n",
    "\n",
    "    query = takeCommand()\n",
    "    if query.count(cmd_wake_up_call)>0:\n",
    "        speak(\"Rolling and ready.\")\n",
    "        #time.sleep(1)\n",
    "        t1 = time.time()\n",
    "        print(str(t1-t0))\n",
    "        listen()\n",
    "\n",
    "    elif 'you listening' in query:\n",
    "        speak(\"Nope.....or maybe just a little\")\n",
    "        time.sleep(3)\n",
    "\n",
    "    elif 'goodbye rocky' in query:\n",
    "        speak(\"goodbye\")\n",
    "        time.sleep(3)\n",
    "        break           \n",
    "    \n"
   ]
  },
  {
   "cell_type": "code",
   "execution_count": null,
   "metadata": {},
   "outputs": [],
   "source": []
  }
 ]
}